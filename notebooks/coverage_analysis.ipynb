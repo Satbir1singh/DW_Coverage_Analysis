{
 "cells": [
  {
   "cell_type": "code",
   "execution_count": null,
   "id": "e0dbbe63",
   "metadata": {},
   "outputs": [],
   "source": [
    "import ee\n",
    "import importlib.util\n",
    "import os"
   ]
  },
  {
   "cell_type": "code",
   "execution_count": null,
   "id": "659a2112",
   "metadata": {},
   "outputs": [],
   "source": [
    "#ee.Authenticate(force = True)\n",
    "ee.Initialize()"
   ]
  },
  {
   "cell_type": "code",
   "execution_count": null,
   "id": "837c701a",
   "metadata": {},
   "outputs": [],
   "source": [
    "import importlib.util\n",
    "\n",
    "script_path = r'E:\\D-Drive\\DW_intern_SATBIR\\src\\DW_coverage.py'  # raw string avoids escape issues\n",
    "spec = importlib.util.spec_from_file_location(\"DW_coverage\", script_path)\n",
    "DW_coverage = importlib.util.module_from_spec(spec)\n",
    "spec.loader.exec_module(DW_coverage)"
   ]
  },
  {
   "cell_type": "code",
   "execution_count": null,
   "id": "5023ac34",
   "metadata": {},
   "outputs": [],
   "source": [
    "# Required parameters (fill these as needed)\n",
    "project_name = \"ee-officialsatbir23\"  # <-- Replace with your EE project name\n",
    "years =  list(range(2021, 2022))                            # <-- List of years\n",
    "percentage = 0.2                               # <-- For functions 1 and 2\n",
    "folder_name = 'DW_Export_AUS'                       # <-- Google Drive folder name for export\n",
    "country_code = 17                               # <-- ADM0_CODE (e.g., Australia = 36)\n",
    "num_random_basins = 10                          # <-- For function 3 only\n",
    "\n",
    "# Optional custom geometry for function 2 (rectangle around Australia by default)\n",
    "custom_geom = ee.Geometry.Rectangle([\n",
    "    113.338953078, -43.6345972634,\n",
    "    153.569469029, -10.6681857235\n",
    "])\n"
   ]
  },
  {
   "cell_type": "code",
   "execution_count": null,
   "id": "07e21e24",
   "metadata": {},
   "outputs": [],
   "source": [
    "#-------- Function 1: by country ADM0 code --------\n",
    "DW_coverage.run_dynamic_world_export_by_country_code(\n",
    "    COUNTRY_ADM0_CODE=country_code,\n",
    "    YEARS=years,\n",
    "    project_name=project_name,\n",
    "    percentage=percentage,\n",
    "    folder_name=folder_name\n",
    ")\n"
   ]
  },
  {
   "cell_type": "code",
   "execution_count": null,
   "id": "9384c36f",
   "metadata": {},
   "outputs": [],
   "source": [
    "# -------- Function 2: by custom geometry --------\n",
    "DW_coverage.run_dynamic_world_export_by_geom(\n",
    "    YEARS=years,\n",
    "    project_name=project_name,\n",
    "    percentage=percentage,\n",
    "    folder_name=folder_name,\n",
    "    country_geom=custom_geom\n",
    ")"
   ]
  },
  {
   "cell_type": "code",
   "execution_count": null,
   "id": "6f82f62f",
   "metadata": {},
   "outputs": [],
   "source": [
    "# -------- Function 3: by selecting N random basins --------\n",
    "DW_coverage.run_dynamic_world_export_random_n_basins(\n",
    "    COUNTRY_ADM0_CODE=country_code,\n",
    "    YEARS=years,\n",
    "    project_name=project_name,\n",
    "    NUM_RANDOM_BASINS=num_random_basins,\n",
    "    folder_name=folder_name\n",
    ")"
   ]
  }
 ],
 "metadata": {
  "kernelspec": {
   "display_name": "dynamic",
   "language": "python",
   "name": "python3"
  },
  "language_info": {
   "codemirror_mode": {
    "name": "ipython",
    "version": 3
   },
   "file_extension": ".py",
   "mimetype": "text/x-python",
   "name": "python",
   "nbconvert_exporter": "python",
   "pygments_lexer": "ipython3",
   "version": "3.11.2"
  }
 },
 "nbformat": 4,
 "nbformat_minor": 5
}
