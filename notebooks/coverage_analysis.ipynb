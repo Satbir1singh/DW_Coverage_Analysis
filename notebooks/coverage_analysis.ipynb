{
 "cells": [
  {
   "cell_type": "code",
   "execution_count": 8,
   "id": "e0dbbe63",
   "metadata": {},
   "outputs": [],
   "source": [
    "import ee\n",
    "import importlib.util\n",
    "import os"
   ]
  },
  {
   "cell_type": "code",
   "execution_count": null,
   "id": "659a2112",
   "metadata": {},
   "outputs": [
    {
     "data": {
      "text/html": [
       "<p>To authorize access needed by Earth Engine, open the following\n",
       "        URL in a web browser and follow the instructions:</p>\n",
       "        <p><a href=https://code.earthengine.google.com/client-auth?scopes=https%3A//www.googleapis.com/auth/earthengine%20https%3A//www.googleapis.com/auth/cloud-platform%20https%3A//www.googleapis.com/auth/drive%20https%3A//www.googleapis.com/auth/devstorage.full_control&request_id=dJBau_pOPnksq3q8lse-vYJ4L-nY-XhHTXjyVXINdg0&tc=lHksV3KQZPPMg_tAulIIyi_loukHgl9w6-qnxjb8MXo&cc=EnIloLw6JFDRxA7bLwoPPI5XfT7xNjmFSVMwAlEK4YY>https://code.earthengine.google.com/client-auth?scopes=https%3A//www.googleapis.com/auth/earthengine%20https%3A//www.googleapis.com/auth/cloud-platform%20https%3A//www.googleapis.com/auth/drive%20https%3A//www.googleapis.com/auth/devstorage.full_control&request_id=dJBau_pOPnksq3q8lse-vYJ4L-nY-XhHTXjyVXINdg0&tc=lHksV3KQZPPMg_tAulIIyi_loukHgl9w6-qnxjb8MXo&cc=EnIloLw6JFDRxA7bLwoPPI5XfT7xNjmFSVMwAlEK4YY</a></p>\n",
       "        <p>The authorization workflow will generate a code, which you should paste in the box below.</p>\n",
       "        "
      ],
      "text/plain": [
       "<IPython.core.display.HTML object>"
      ]
     },
     "metadata": {},
     "output_type": "display_data"
    },
    {
     "name": "stdout",
     "output_type": "stream",
     "text": [
      "\n",
      "Successfully saved authorization token.\n"
     ]
    }
   ],
   "source": [
    "#ee.Authenticate(force = True)\n",
    "ee.Initialize()"
   ]
  },
  {
   "cell_type": "code",
   "execution_count": 15,
   "id": "837c701a",
   "metadata": {},
   "outputs": [],
   "source": [
    "import importlib.util\n",
    "\n",
    "script_path = r'E:\\D-Drive\\DW_intern_SATBIR\\src\\DW_coverage.py'  # raw string avoids escape issues\n",
    "spec = importlib.util.spec_from_file_location(\"DW_coverage\", script_path)\n",
    "DW_coverage = importlib.util.module_from_spec(spec)\n",
    "spec.loader.exec_module(DW_coverage)"
   ]
  },
  {
   "cell_type": "code",
   "execution_count": 16,
   "id": "5023ac34",
   "metadata": {},
   "outputs": [],
   "source": [
    "# Required parameters (fill these as needed)\n",
    "project_name = \"ee-officialsatbir23\"  # <-- Replace with your EE project name\n",
    "years =  list(range(2021, 2022))                            # <-- List of years\n",
    "percentage = 0.2                               # <-- For functions 1 and 2\n",
    "folder_name = 'DW_Export_kaz'                       # <-- Google Drive folder name for export\n",
    "country_code = 132                              # <-- ADM0_CODE\n",
    "num_random_basins = 10                          # <-- For function 3 only\n",
    "\n",
    "# Optional custom geometry for function 2 (rectangle around Australia by default)\n",
    "custom_geom = ee.Geometry.Rectangle([46.4664457538, 40.6623245306, 87.3599703308, 55.3852501491])\n"
   ]
  },
  {
   "cell_type": "code",
   "execution_count": null,
   "id": "07e21e24",
   "metadata": {},
   "outputs": [],
   "source": [
    "#-------- Function 1: by country ADM0 code --------\n",
    "DW_coverage.run_dynamic_world_export_by_country_code(\n",
    "    COUNTRY_ADM0_CODE=country_code,\n",
    "    YEARS=years,\n",
    "    project_name=project_name,\n",
    "    percentage=percentage,\n",
    "    folder_name=folder_name\n",
    ")\n"
   ]
  },
  {
   "cell_type": "code",
   "execution_count": 17,
   "id": "9384c36f",
   "metadata": {},
   "outputs": [
    {
     "ename": "EEException",
     "evalue": "Collection.reduceColumns: Filter is too complex.",
     "output_type": "error",
     "traceback": [
      "\u001b[31m---------------------------------------------------------------------------\u001b[39m",
      "\u001b[31mHttpError\u001b[39m                                 Traceback (most recent call last)",
      "\u001b[36mFile \u001b[39m\u001b[32me:\\D-Drive\\DW_intern_SATBIR\\dynamic\\Lib\\site-packages\\ee\\data.py:408\u001b[39m, in \u001b[36m_execute_cloud_call\u001b[39m\u001b[34m(call, num_retries)\u001b[39m\n\u001b[32m    407\u001b[39m \u001b[38;5;28;01mtry\u001b[39;00m:\n\u001b[32m--> \u001b[39m\u001b[32m408\u001b[39m   \u001b[38;5;28;01mreturn\u001b[39;00m \u001b[43mcall\u001b[49m\u001b[43m.\u001b[49m\u001b[43mexecute\u001b[49m\u001b[43m(\u001b[49m\u001b[43mnum_retries\u001b[49m\u001b[43m=\u001b[49m\u001b[43mnum_retries\u001b[49m\u001b[43m)\u001b[49m\n\u001b[32m    409\u001b[39m \u001b[38;5;28;01mexcept\u001b[39;00m googleapiclient.errors.HttpError \u001b[38;5;28;01mas\u001b[39;00m e:\n",
      "\u001b[36mFile \u001b[39m\u001b[32me:\\D-Drive\\DW_intern_SATBIR\\dynamic\\Lib\\site-packages\\googleapiclient\\_helpers.py:130\u001b[39m, in \u001b[36mpositional.<locals>.positional_decorator.<locals>.positional_wrapper\u001b[39m\u001b[34m(*args, **kwargs)\u001b[39m\n\u001b[32m    129\u001b[39m         logger.warning(message)\n\u001b[32m--> \u001b[39m\u001b[32m130\u001b[39m \u001b[38;5;28;01mreturn\u001b[39;00m \u001b[43mwrapped\u001b[49m\u001b[43m(\u001b[49m\u001b[43m*\u001b[49m\u001b[43margs\u001b[49m\u001b[43m,\u001b[49m\u001b[43m \u001b[49m\u001b[43m*\u001b[49m\u001b[43m*\u001b[49m\u001b[43mkwargs\u001b[49m\u001b[43m)\u001b[49m\n",
      "\u001b[36mFile \u001b[39m\u001b[32me:\\D-Drive\\DW_intern_SATBIR\\dynamic\\Lib\\site-packages\\googleapiclient\\http.py:938\u001b[39m, in \u001b[36mHttpRequest.execute\u001b[39m\u001b[34m(self, http, num_retries)\u001b[39m\n\u001b[32m    937\u001b[39m \u001b[38;5;28;01mif\u001b[39;00m resp.status >= \u001b[32m300\u001b[39m:\n\u001b[32m--> \u001b[39m\u001b[32m938\u001b[39m     \u001b[38;5;28;01mraise\u001b[39;00m HttpError(resp, content, uri=\u001b[38;5;28mself\u001b[39m.uri)\n\u001b[32m    939\u001b[39m \u001b[38;5;28;01mreturn\u001b[39;00m \u001b[38;5;28mself\u001b[39m.postproc(resp, content)\n",
      "\u001b[31mHttpError\u001b[39m: <HttpError 400 when requesting https://earthengine.googleapis.com/v1/projects/ee-officialsatbir23/value:compute?prettyPrint=false&alt=json returned \"Collection.reduceColumns: Filter is too complex.\". Details: \"Collection.reduceColumns: Filter is too complex.\">",
      "\nDuring handling of the above exception, another exception occurred:\n",
      "\u001b[31mEEException\u001b[39m                               Traceback (most recent call last)",
      "\u001b[36mCell\u001b[39m\u001b[36m \u001b[39m\u001b[32mIn[17]\u001b[39m\u001b[32m, line 2\u001b[39m\n\u001b[32m      1\u001b[39m \u001b[38;5;66;03m# -------- Function 2: by custom geometry --------\u001b[39;00m\n\u001b[32m----> \u001b[39m\u001b[32m2\u001b[39m \u001b[43mDW_coverage\u001b[49m\u001b[43m.\u001b[49m\u001b[43mrun_dynamic_world_export_by_geom\u001b[49m\u001b[43m(\u001b[49m\n\u001b[32m      3\u001b[39m \u001b[43m    \u001b[49m\u001b[43mYEARS\u001b[49m\u001b[43m=\u001b[49m\u001b[43myears\u001b[49m\u001b[43m,\u001b[49m\n\u001b[32m      4\u001b[39m \u001b[43m    \u001b[49m\u001b[43mproject_name\u001b[49m\u001b[43m=\u001b[49m\u001b[43mproject_name\u001b[49m\u001b[43m,\u001b[49m\n\u001b[32m      5\u001b[39m \u001b[43m    \u001b[49m\u001b[43mpercentage\u001b[49m\u001b[43m=\u001b[49m\u001b[43mpercentage\u001b[49m\u001b[43m,\u001b[49m\n\u001b[32m      6\u001b[39m \u001b[43m    \u001b[49m\u001b[43mfolder_name\u001b[49m\u001b[43m=\u001b[49m\u001b[43mfolder_name\u001b[49m\u001b[43m,\u001b[49m\n\u001b[32m      7\u001b[39m \u001b[43m    \u001b[49m\u001b[43mcountry_geom\u001b[49m\u001b[43m=\u001b[49m\u001b[43mcustom_geom\u001b[49m\n\u001b[32m      8\u001b[39m \u001b[43m)\u001b[49m\n",
      "\u001b[36mFile \u001b[39m\u001b[32mE:\\D-Drive\\DW_intern_SATBIR\\src\\DW_coverage.py:196\u001b[39m, in \u001b[36mrun_dynamic_world_export_by_geom\u001b[39m\u001b[34m(YEARS, project_name, percentage, folder_name, country_geom)\u001b[39m\n\u001b[32m    191\u001b[39m filtered_basins = country_basins.filter(\n\u001b[32m    192\u001b[39m     ee.Filter.inList(\u001b[33m'\u001b[39m\u001b[33mHYBAS_ID\u001b[39m\u001b[33m'\u001b[39m, exclude_ids_num).Not()\n\u001b[32m    193\u001b[39m )\n\u001b[32m    195\u001b[39m basin_list = filtered_basins.toList(filtered_basins.size())\n\u001b[32m--> \u001b[39m\u001b[32m196\u001b[39m n_basins = \u001b[43mbasin_list\u001b[49m\u001b[43m.\u001b[49m\u001b[43msize\u001b[49m\u001b[43m(\u001b[49m\u001b[43m)\u001b[49m\u001b[43m.\u001b[49m\u001b[43mgetInfo\u001b[49m\u001b[43m(\u001b[49m\u001b[43m)\u001b[49m\n\u001b[32m    197\u001b[39m n_select = \u001b[38;5;28mmax\u001b[39m(\u001b[32m1\u001b[39m, \u001b[38;5;28mint\u001b[39m(n_basins * percentage))\n\u001b[32m    199\u001b[39m indices = \u001b[38;5;28mlist\u001b[39m(\u001b[38;5;28mrange\u001b[39m(n_basins))\n",
      "\u001b[36mFile \u001b[39m\u001b[32me:\\D-Drive\\DW_intern_SATBIR\\dynamic\\Lib\\site-packages\\ee\\computedobject.py:107\u001b[39m, in \u001b[36mComputedObject.getInfo\u001b[39m\u001b[34m(self)\u001b[39m\n\u001b[32m    101\u001b[39m \u001b[38;5;28;01mdef\u001b[39;00m\u001b[38;5;250m \u001b[39m\u001b[34mgetInfo\u001b[39m(\u001b[38;5;28mself\u001b[39m) -> Optional[Any]:\n\u001b[32m    102\u001b[39m \u001b[38;5;250m  \u001b[39m\u001b[33;03m\"\"\"Fetch and return information about this object.\u001b[39;00m\n\u001b[32m    103\u001b[39m \n\u001b[32m    104\u001b[39m \u001b[33;03m  Returns:\u001b[39;00m\n\u001b[32m    105\u001b[39m \u001b[33;03m    The object can evaluate to anything.\u001b[39;00m\n\u001b[32m    106\u001b[39m \u001b[33;03m  \"\"\"\u001b[39;00m\n\u001b[32m--> \u001b[39m\u001b[32m107\u001b[39m   \u001b[38;5;28;01mreturn\u001b[39;00m \u001b[43mdata\u001b[49m\u001b[43m.\u001b[49m\u001b[43mcomputeValue\u001b[49m\u001b[43m(\u001b[49m\u001b[38;5;28;43mself\u001b[39;49m\u001b[43m)\u001b[49m\n",
      "\u001b[36mFile \u001b[39m\u001b[32me:\\D-Drive\\DW_intern_SATBIR\\dynamic\\Lib\\site-packages\\ee\\data.py:1128\u001b[39m, in \u001b[36mcomputeValue\u001b[39m\u001b[34m(obj)\u001b[39m\n\u001b[32m   1125\u001b[39m body = {\u001b[33m'\u001b[39m\u001b[33mexpression\u001b[39m\u001b[33m'\u001b[39m: serializer.encode(obj, for_cloud_api=\u001b[38;5;28;01mTrue\u001b[39;00m)}\n\u001b[32m   1126\u001b[39m _maybe_populate_workload_tag(body)\n\u001b[32m-> \u001b[39m\u001b[32m1128\u001b[39m \u001b[38;5;28;01mreturn\u001b[39;00m \u001b[43m_execute_cloud_call\u001b[49m\u001b[43m(\u001b[49m\n\u001b[32m   1129\u001b[39m \u001b[43m    \u001b[49m\u001b[43m_get_cloud_projects\u001b[49m\u001b[43m(\u001b[49m\u001b[43m)\u001b[49m\n\u001b[32m   1130\u001b[39m \u001b[43m    \u001b[49m\u001b[43m.\u001b[49m\u001b[43mvalue\u001b[49m\u001b[43m(\u001b[49m\u001b[43m)\u001b[49m\n\u001b[32m   1131\u001b[39m \u001b[43m    \u001b[49m\u001b[43m.\u001b[49m\u001b[43mcompute\u001b[49m\u001b[43m(\u001b[49m\u001b[43mbody\u001b[49m\u001b[43m=\u001b[49m\u001b[43mbody\u001b[49m\u001b[43m,\u001b[49m\u001b[43m \u001b[49m\u001b[43mproject\u001b[49m\u001b[43m=\u001b[49m\u001b[43m_get_projects_path\u001b[49m\u001b[43m(\u001b[49m\u001b[43m)\u001b[49m\u001b[43m,\u001b[49m\u001b[43m \u001b[49m\u001b[43mprettyPrint\u001b[49m\u001b[43m=\u001b[49m\u001b[38;5;28;43;01mFalse\u001b[39;49;00m\u001b[43m)\u001b[49m\n\u001b[32m   1132\u001b[39m \u001b[43m\u001b[49m\u001b[43m)\u001b[49m[\u001b[33m'\u001b[39m\u001b[33mresult\u001b[39m\u001b[33m'\u001b[39m]\n",
      "\u001b[36mFile \u001b[39m\u001b[32me:\\D-Drive\\DW_intern_SATBIR\\dynamic\\Lib\\site-packages\\ee\\data.py:410\u001b[39m, in \u001b[36m_execute_cloud_call\u001b[39m\u001b[34m(call, num_retries)\u001b[39m\n\u001b[32m    408\u001b[39m   \u001b[38;5;28;01mreturn\u001b[39;00m call.execute(num_retries=num_retries)\n\u001b[32m    409\u001b[39m \u001b[38;5;28;01mexcept\u001b[39;00m googleapiclient.errors.HttpError \u001b[38;5;28;01mas\u001b[39;00m e:\n\u001b[32m--> \u001b[39m\u001b[32m410\u001b[39m   \u001b[38;5;28;01mraise\u001b[39;00m _translate_cloud_exception(e)\n",
      "\u001b[31mEEException\u001b[39m: Collection.reduceColumns: Filter is too complex."
     ]
    }
   ],
   "source": [
    "# -------- Function 2: by custom geometry --------\n",
    "DW_coverage.run_dynamic_world_export_by_geom(\n",
    "    YEARS=years,\n",
    "    project_name=project_name,\n",
    "    percentage=percentage,\n",
    "    folder_name=folder_name,\n",
    "    country_geom=custom_geom\n",
    ")"
   ]
  },
  {
   "cell_type": "code",
   "execution_count": null,
   "id": "6f82f62f",
   "metadata": {},
   "outputs": [],
   "source": [
    "# -------- Function 3: by selecting N random basins --------\n",
    "DW_coverage.run_dynamic_world_export_random_n_basins(\n",
    "    COUNTRY_ADM0_CODE=country_code,\n",
    "    YEARS=years,\n",
    "    project_name=project_name,\n",
    "    NUM_RANDOM_BASINS=num_random_basins,\n",
    "    folder_name=folder_name\n",
    ")"
   ]
  }
 ],
 "metadata": {
  "kernelspec": {
   "display_name": "dynamic",
   "language": "python",
   "name": "python3"
  },
  "language_info": {
   "codemirror_mode": {
    "name": "ipython",
    "version": 3
   },
   "file_extension": ".py",
   "mimetype": "text/x-python",
   "name": "python",
   "nbconvert_exporter": "python",
   "pygments_lexer": "ipython3",
   "version": "3.11.2"
  }
 },
 "nbformat": 4,
 "nbformat_minor": 5
}
