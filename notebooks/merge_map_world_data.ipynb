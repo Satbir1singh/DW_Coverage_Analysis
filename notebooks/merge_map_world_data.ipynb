{
 "cells": [
  {
   "cell_type": "code",
   "execution_count": 2,
   "id": "dd72f3d1",
   "metadata": {},
   "outputs": [],
   "source": [
    "import pandas as pd\n",
    "import os\n",
    "import geopandas as gpd"
   ]
  },
  {
   "cell_type": "code",
   "execution_count": 3,
   "id": "809e8d90",
   "metadata": {},
   "outputs": [],
   "source": [
    "folder_path = \"E:/D-Drive/DW_intern_SATBIR/data_all/data_world_2021\""
   ]
  },
  {
   "cell_type": "code",
   "execution_count": 4,
   "id": "0350a771",
   "metadata": {},
   "outputs": [],
   "source": [
    "\n",
    "summary_data = []\n",
    "all_data = [] "
   ]
  },
  {
   "cell_type": "code",
   "execution_count": 5,
   "id": "857b5c15",
   "metadata": {},
   "outputs": [],
   "source": [
    "for filename in os.listdir(folder_path):\n",
    "    if filename.endswith(\".csv\"):\n",
    "        filepath = os.path.join(folder_path, filename)\n",
    "        df = pd.read_csv(filepath)\n",
    "        all_data.append(df)\n",
    "\n",
    "combined_df = pd.concat(all_data, ignore_index=True)\n",
    "combined_df = combined_df.drop_duplicates(subset=[\"HYBAS_ID\", \"Period\"])\n",
    "\n",
    "for hybas_id in combined_df[\"HYBAS_ID\"].unique():\n",
    "    df = combined_df[combined_df[\"HYBAS_ID\"] == hybas_id]\n",
    "\n",
    "    total_area = df[\"total_area\"].iloc[0]\n",
    "\n",
    "    monthly_df = df[~df[\"Period\"].str.contains(\"total\")]\n",
    "\n",
    "    monthly_mean = monthly_df[\"Coverage_percent\"].mean()\n",
    "    monthly_min = monthly_df[\"Coverage_percent\"].min()\n",
    "    monthly_max = monthly_df[\"Coverage_percent\"].max()\n",
    "    monthly_variation = monthly_max - monthly_min\n",
    "\n",
    "    yearly_row = df[df[\"Period\"] == \"2021_total\"]\n",
    "    yearly_value = yearly_row[\"Coverage_percent\"].values[0] if not yearly_row.empty else None\n",
    "\n",
    "    summary_data.append({\n",
    "        \"HYBAS_ID\": hybas_id,\n",
    "        \"monthly_mean\": monthly_mean,\n",
    "        \"monthly_min\": monthly_min,\n",
    "        \"monthly_max\": monthly_max,\n",
    "        \"monthly_variation\": monthly_variation,\n",
    "        \"yearly_value\": yearly_value,\n",
    "        \"total_area\": total_area\n",
    "    })\n",
    "summary_df = pd.DataFrame(summary_data)\n"
   ]
  },
  {
   "cell_type": "code",
   "execution_count": 6,
   "id": "b29de8bc",
   "metadata": {},
   "outputs": [
    {
     "data": {
      "text/html": [
       "<div>\n",
       "<style scoped>\n",
       "    .dataframe tbody tr th:only-of-type {\n",
       "        vertical-align: middle;\n",
       "    }\n",
       "\n",
       "    .dataframe tbody tr th {\n",
       "        vertical-align: top;\n",
       "    }\n",
       "\n",
       "    .dataframe thead th {\n",
       "        text-align: right;\n",
       "    }\n",
       "</style>\n",
       "<table border=\"1\" class=\"dataframe\">\n",
       "  <thead>\n",
       "    <tr style=\"text-align: right;\">\n",
       "      <th></th>\n",
       "      <th>HYBAS_ID</th>\n",
       "      <th>monthly_mean</th>\n",
       "      <th>monthly_min</th>\n",
       "      <th>monthly_max</th>\n",
       "      <th>monthly_variation</th>\n",
       "      <th>yearly_value</th>\n",
       "      <th>total_area</th>\n",
       "    </tr>\n",
       "  </thead>\n",
       "  <tbody>\n",
       "    <tr>\n",
       "      <th>0</th>\n",
       "      <td>1050007000</td>\n",
       "      <td>98.383540</td>\n",
       "      <td>80.609982</td>\n",
       "      <td>100.000000</td>\n",
       "      <td>19.390018</td>\n",
       "      <td>100.000000</td>\n",
       "      <td>2.652845e+06</td>\n",
       "    </tr>\n",
       "    <tr>\n",
       "      <th>1</th>\n",
       "      <td>1050008110</td>\n",
       "      <td>42.065056</td>\n",
       "      <td>7.192607</td>\n",
       "      <td>94.106716</td>\n",
       "      <td>86.914109</td>\n",
       "      <td>99.909812</td>\n",
       "      <td>4.960870e+06</td>\n",
       "    </tr>\n",
       "    <tr>\n",
       "      <th>2</th>\n",
       "      <td>1050008470</td>\n",
       "      <td>47.895003</td>\n",
       "      <td>11.589135</td>\n",
       "      <td>91.974499</td>\n",
       "      <td>80.385364</td>\n",
       "      <td>99.965774</td>\n",
       "      <td>9.549469e+06</td>\n",
       "    </tr>\n",
       "    <tr>\n",
       "      <th>3</th>\n",
       "      <td>1050008570</td>\n",
       "      <td>56.856826</td>\n",
       "      <td>11.778007</td>\n",
       "      <td>95.029541</td>\n",
       "      <td>83.251534</td>\n",
       "      <td>99.751588</td>\n",
       "      <td>4.694638e+06</td>\n",
       "    </tr>\n",
       "    <tr>\n",
       "      <th>4</th>\n",
       "      <td>1050009010</td>\n",
       "      <td>56.134274</td>\n",
       "      <td>4.735868</td>\n",
       "      <td>96.827437</td>\n",
       "      <td>92.091570</td>\n",
       "      <td>99.869871</td>\n",
       "      <td>5.165458e+06</td>\n",
       "    </tr>\n",
       "    <tr>\n",
       "      <th>...</th>\n",
       "      <td>...</td>\n",
       "      <td>...</td>\n",
       "      <td>...</td>\n",
       "      <td>...</td>\n",
       "      <td>...</td>\n",
       "      <td>...</td>\n",
       "      <td>...</td>\n",
       "    </tr>\n",
       "    <tr>\n",
       "      <th>1178</th>\n",
       "      <td>9050014810</td>\n",
       "      <td>55.966851</td>\n",
       "      <td>0.000000</td>\n",
       "      <td>100.000000</td>\n",
       "      <td>100.000000</td>\n",
       "      <td>100.000000</td>\n",
       "      <td>1.343630e+07</td>\n",
       "    </tr>\n",
       "    <tr>\n",
       "      <th>1179</th>\n",
       "      <td>9050015210</td>\n",
       "      <td>53.737176</td>\n",
       "      <td>0.000000</td>\n",
       "      <td>100.000000</td>\n",
       "      <td>100.000000</td>\n",
       "      <td>100.000000</td>\n",
       "      <td>1.769787e+07</td>\n",
       "    </tr>\n",
       "    <tr>\n",
       "      <th>1180</th>\n",
       "      <td>9050041830</td>\n",
       "      <td>47.094849</td>\n",
       "      <td>0.000000</td>\n",
       "      <td>99.920033</td>\n",
       "      <td>99.920033</td>\n",
       "      <td>99.991532</td>\n",
       "      <td>4.600501e+06</td>\n",
       "    </tr>\n",
       "    <tr>\n",
       "      <th>1181</th>\n",
       "      <td>9050100020</td>\n",
       "      <td>59.685721</td>\n",
       "      <td>0.000000</td>\n",
       "      <td>100.000000</td>\n",
       "      <td>100.000000</td>\n",
       "      <td>100.000000</td>\n",
       "      <td>2.216955e+06</td>\n",
       "    </tr>\n",
       "    <tr>\n",
       "      <th>1182</th>\n",
       "      <td>9050103730</td>\n",
       "      <td>40.355256</td>\n",
       "      <td>0.000000</td>\n",
       "      <td>100.000000</td>\n",
       "      <td>100.000000</td>\n",
       "      <td>100.000000</td>\n",
       "      <td>5.927381e+05</td>\n",
       "    </tr>\n",
       "  </tbody>\n",
       "</table>\n",
       "<p>1183 rows × 7 columns</p>\n",
       "</div>"
      ],
      "text/plain": [
       "        HYBAS_ID  monthly_mean  monthly_min  monthly_max  monthly_variation  \\\n",
       "0     1050007000     98.383540    80.609982   100.000000          19.390018   \n",
       "1     1050008110     42.065056     7.192607    94.106716          86.914109   \n",
       "2     1050008470     47.895003    11.589135    91.974499          80.385364   \n",
       "3     1050008570     56.856826    11.778007    95.029541          83.251534   \n",
       "4     1050009010     56.134274     4.735868    96.827437          92.091570   \n",
       "...          ...           ...          ...          ...                ...   \n",
       "1178  9050014810     55.966851     0.000000   100.000000         100.000000   \n",
       "1179  9050015210     53.737176     0.000000   100.000000         100.000000   \n",
       "1180  9050041830     47.094849     0.000000    99.920033          99.920033   \n",
       "1181  9050100020     59.685721     0.000000   100.000000         100.000000   \n",
       "1182  9050103730     40.355256     0.000000   100.000000         100.000000   \n",
       "\n",
       "      yearly_value    total_area  \n",
       "0       100.000000  2.652845e+06  \n",
       "1        99.909812  4.960870e+06  \n",
       "2        99.965774  9.549469e+06  \n",
       "3        99.751588  4.694638e+06  \n",
       "4        99.869871  5.165458e+06  \n",
       "...            ...           ...  \n",
       "1178    100.000000  1.343630e+07  \n",
       "1179    100.000000  1.769787e+07  \n",
       "1180     99.991532  4.600501e+06  \n",
       "1181    100.000000  2.216955e+06  \n",
       "1182    100.000000  5.927381e+05  \n",
       "\n",
       "[1183 rows x 7 columns]"
      ]
     },
     "execution_count": 6,
     "metadata": {},
     "output_type": "execute_result"
    }
   ],
   "source": [
    "summary_df"
   ]
  },
  {
   "cell_type": "code",
   "execution_count": 7,
   "id": "90c44310",
   "metadata": {},
   "outputs": [],
   "source": [
    "summary_df.to_csv(\"E:/D-Drive/DW_intern_SATBIR/basin_summary/world_basins_summary_2021.csv\", index=False)"
   ]
  },
  {
   "cell_type": "code",
   "execution_count": null,
   "id": "320cedc4",
   "metadata": {},
   "outputs": [],
   "source": [
    "!pip install geopandas matplotlib"
   ]
  },
  {
   "cell_type": "code",
   "execution_count": 7,
   "id": "a3135e84",
   "metadata": {},
   "outputs": [
    {
     "name": "stdout",
     "output_type": "stream",
     "text": [
      "Total basins loaded: 4734\n",
      "Index(['OBJECTID', 'HYBAS_ID', 'NEXT_DOWN', 'NEXT_SINK', 'MAIN_BAS',\n",
      "       'DIST_SINK', 'DIST_MAIN', 'SUB_AREA', 'UP_AREA', 'PFAF_ID',\n",
      "       ...\n",
      "       'hft_ix_s09', 'hft_ix_u09', 'gad_id_smj', 'gdp_ud_sav', 'gdp_ud_ssu',\n",
      "       'gdp_ud_usu', 'hdi_ix_sav', 'Shape_Length', 'Shape_Area', 'geometry'],\n",
      "      dtype='object', length=298)\n"
     ]
    }
   ],
   "source": [
    "import geopandas as gpd\n",
    "\n",
    "# Path to the GPKG file\n",
    "gpkg_path = \"E:/D-Drive/DW_intern_SATBIR/Hybas/HydroBASINS_lev_05.gpkg\"\n",
    "\n",
    "# Read the entire GPKG file\n",
    "gdf_basins = gpd.read_file(gpkg_path)\n",
    "\n",
    "print(f\"Total basins loaded: {len(gdf_basins)}\")\n",
    "print(gdf_basins.columns)"
   ]
  },
  {
   "cell_type": "code",
   "execution_count": 8,
   "id": "2221fbe0",
   "metadata": {},
   "outputs": [],
   "source": [
    "gdf_basins[\"HYBAS_ID\"] = gdf_basins[\"HYBAS_ID\"].astype(int)\n",
    "summary_df[\"HYBAS_ID\"] = summary_df[\"HYBAS_ID\"].astype(int)\n",
    "\n",
    "# Merge GeoDataFrame with summary stats\n",
    "gdf_merged = gdf_basins.merge(summary_df, on=\"HYBAS_ID\", how=\"inner\")"
   ]
  },
  {
   "cell_type": "code",
   "execution_count": 10,
   "id": "0a555a23",
   "metadata": {},
   "outputs": [
    {
     "data": {
      "text/plain": [
       "(864, 304)"
      ]
     },
     "execution_count": 10,
     "metadata": {},
     "output_type": "execute_result"
    }
   ],
   "source": [
    "gdf_merged.shape"
   ]
  },
  {
   "cell_type": "code",
   "execution_count": 11,
   "id": "e592b5f1",
   "metadata": {},
   "outputs": [],
   "source": [
    "# Export merged GeoDataFrame to GeoJSON for geemap\n",
    "geojson_path = \"E:/D-Drive/DW_intern_SATBIR/merged_geojson/merged_hydrobasins_World.geojson\"\n",
    "gdf_merged.to_file(geojson_path, driver=\"GeoJSON\")"
   ]
  },
  {
   "cell_type": "code",
   "execution_count": 12,
   "id": "df710d84",
   "metadata": {},
   "outputs": [
    {
     "data": {
      "text/plain": [
       "Index(['OBJECTID', 'HYBAS_ID', 'NEXT_DOWN', 'NEXT_SINK', 'MAIN_BAS',\n",
       "       'DIST_SINK', 'DIST_MAIN', 'SUB_AREA', 'UP_AREA', 'PFAF_ID',\n",
       "       ...\n",
       "       'hdi_ix_sav', 'Shape_Length', 'Shape_Area', 'monthly_mean',\n",
       "       'monthly_min', 'monthly_max', 'monthly_variation', 'yearly_value',\n",
       "       'total_area', 'geometry'],\n",
       "      dtype='object', length=304)"
      ]
     },
     "execution_count": 12,
     "metadata": {},
     "output_type": "execute_result"
    }
   ],
   "source": [
    "\n",
    "# Load your GeoDataFrame\n",
    "gdf = gpd.read_file(\"E:/D-Drive/DW_intern_SATBIR/merged_geojson/merged_hydrobasins_World.geojson\")\n",
    "\n",
    "# Confirm column names\n",
    "gdf.columns"
   ]
  },
  {
   "cell_type": "code",
   "execution_count": 13,
   "id": "32186d3f",
   "metadata": {},
   "outputs": [],
   "source": [
    "import geopandas as gpd\n",
    "import geemap\n",
    "import ipywidgets as widgets\n",
    "from ipyleaflet import GeoJSON, WidgetControl, Popup\n",
    "from branca.colormap import linear\n",
    "import matplotlib.pyplot as plt\n",
    "from matplotlib import cm, colors \n",
    "\n",
    "def plot_choropleth(feature, cmap_name='viridis'):\n",
    "    # Step 1: Clean data\n",
    "    gdf_plot = gdf[[\"HYBAS_ID\", \"geometry\", feature]].dropna()\n",
    "\n",
    "    # Step 2: Colormap setup\n",
    "    vmin, vmax = gdf_plot[feature].min(), gdf_plot[feature].max()\n",
    "    colormap = linear.__getattribute__(cmap_name).scale(vmin, vmax)\n",
    "    colormap.caption = feature.replace(\"_\", \" \").title()\n",
    "    norm = plt.Normalize(vmin=vmin, vmax=vmax)\n",
    "    cmap = cm.get_cmap(cmap_name)\n",
    "    \n",
    "    # Step 3: Convert GeoDataFrame to styled GeoJSON\n",
    "    styled_features = []\n",
    "    id_lookup = {}\n",
    "    for _, row in gdf_plot.iterrows():\n",
    "        value = round(row[feature], 2)\n",
    "        color = colormap(value)\n",
    "        hybas_id = int(row[\"HYBAS_ID\"])\n",
    "        props = {\n",
    "            \"HYBAS_ID\": hybas_id,\n",
    "            feature: value,\n",
    "            \"style\": {\n",
    "                \"color\": \"black\",\n",
    "                \"weight\": 0.5,\n",
    "                \"fillColor\": color,\n",
    "                \"fillOpacity\": 0.8\n",
    "            }\n",
    "        }\n",
    "        id_lookup[hybas_id] = props  # Store for popup access\n",
    "        styled_features.append({\n",
    "            \"type\": \"Feature\",\n",
    "            \"geometry\": row[\"geometry\"].__geo_interface__,\n",
    "            \"properties\": props\n",
    "        })\n",
    "\n",
    "    geojson_data = {\n",
    "        \"type\": \"FeatureCollection\",\n",
    "        \"features\": styled_features\n",
    "    }\n",
    "\n",
    "    gdf_plot[\"style\"] = gdf_plot[feature].apply(lambda x: colors.to_hex(cmap(norm(x))))\n",
    "\n",
    "    features_json = []\n",
    "    for _, row in gdf_plot.iterrows():\n",
    "        features_json.append({\n",
    "            \"type\": \"Feature\",\n",
    "            \"geometry\": row[\"geometry\"].__geo_interface__,\n",
    "            \"properties\": {\n",
    "                \"HYBAS_ID\": row[\"HYBAS_ID\"],\n",
    "                feature: row[feature],\n",
    "                \"style\": {\n",
    "                    \"color\": \"black\",\n",
    "                    \"weight\": 0.5,\n",
    "                    \"fillColor\": row[\"style\"],\n",
    "                    \"fillOpacity\": 0.8\n",
    "                }\n",
    "            }\n",
    "        })\n",
    "\n",
    "    geojson_dict = {\n",
    "        \"type\": \"FeatureCollection\",\n",
    "        \"features\": features_json\n",
    "    }\n",
    "    # Step 4: Create the map\n",
    "    m = geemap.Map(center=[22.7266, 74.9799], zoom=4)\n",
    "\n",
    "    # Step 5: Add the GeoJSON layer\n",
    "    geo_json_layer = GeoJSON(\n",
    "        data=geojson_data,\n",
    "        style={\"opacity\": 1, \"fillOpacity\": 0.7},\n",
    "        hover_style={\"fillColor\": \"white\", \"fillOpacity\": 0.4},\n",
    "        name=feature\n",
    "    )\n",
    "    m.add_layer(geo_json_layer)\n",
    "    m.add_geojson(geojson_dict, layer_name=feature, info_mode=\"on_hover\")\n",
    "\n",
    "    # Step 7: Add color legend\n",
    "    legend_html = colormap._repr_html_()\n",
    "    legend_widget = widgets.HTML(value=legend_html)\n",
    "    legend_control = WidgetControl(widget=legend_widget, position='bottomright')\n",
    "    m.add_control(legend_control)\n",
    "\n",
    "\n",
    "    return m\n"
   ]
  },
  {
   "cell_type": "code",
   "execution_count": 14,
   "id": "10e41eec",
   "metadata": {},
   "outputs": [
    {
     "data": {
      "text/html": [
       "\n",
       "            <style>\n",
       "                .geemap-dark {\n",
       "                    --jp-widgets-color: white;\n",
       "                    --jp-widgets-label-color: white;\n",
       "                    --jp-ui-font-color1: white;\n",
       "                    --jp-layout-color2: #454545;\n",
       "                    background-color: #383838;\n",
       "                }\n",
       "\n",
       "                .geemap-dark .jupyter-button {\n",
       "                    --jp-layout-color3: #383838;\n",
       "                }\n",
       "\n",
       "                .geemap-colab {\n",
       "                    background-color: var(--colab-primary-surface-color, white);\n",
       "                }\n",
       "\n",
       "                .geemap-colab .jupyter-button {\n",
       "                    --jp-layout-color3: var(--colab-primary-surface-color, white);\n",
       "                }\n",
       "            </style>\n",
       "            "
      ],
      "text/plain": [
       "<IPython.core.display.HTML object>"
      ]
     },
     "metadata": {},
     "output_type": "display_data"
    },
    {
     "name": "stderr",
     "output_type": "stream",
     "text": [
      "C:\\Users\\Satbir\\AppData\\Local\\Temp\\ipykernel_32392\\958187023.py:18: MatplotlibDeprecationWarning: The get_cmap function was deprecated in Matplotlib 3.7 and will be removed in 3.11. Use ``matplotlib.colormaps[name]`` or ``matplotlib.colormaps.get_cmap()`` or ``pyplot.get_cmap()`` instead.\n",
      "  cmap = cm.get_cmap(cmap_name)\n"
     ]
    },
    {
     "data": {
      "application/vnd.jupyter.widget-view+json": {
       "model_id": "d6540efe033d40d49307d43188123676",
       "version_major": 2,
       "version_minor": 0
      },
      "text/plain": [
       "Map(center=[22.7266, 74.9799], controls=(WidgetControl(options=['position', 'transparent_bg'], widget=SearchDa…"
      ]
     },
     "execution_count": 14,
     "metadata": {},
     "output_type": "execute_result"
    }
   ],
   "source": [
    "plot_choropleth(\"monthly_mean\")"
   ]
  },
  {
   "cell_type": "code",
   "execution_count": 5,
   "id": "9994e5b6",
   "metadata": {},
   "outputs": [
    {
     "data": {
      "text/html": [
       "\n",
       "            <style>\n",
       "                .geemap-dark {\n",
       "                    --jp-widgets-color: white;\n",
       "                    --jp-widgets-label-color: white;\n",
       "                    --jp-ui-font-color1: white;\n",
       "                    --jp-layout-color2: #454545;\n",
       "                    background-color: #383838;\n",
       "                }\n",
       "\n",
       "                .geemap-dark .jupyter-button {\n",
       "                    --jp-layout-color3: #383838;\n",
       "                }\n",
       "\n",
       "                .geemap-colab {\n",
       "                    background-color: var(--colab-primary-surface-color, white);\n",
       "                }\n",
       "\n",
       "                .geemap-colab .jupyter-button {\n",
       "                    --jp-layout-color3: var(--colab-primary-surface-color, white);\n",
       "                }\n",
       "            </style>\n",
       "            "
      ],
      "text/plain": [
       "<IPython.core.display.HTML object>"
      ]
     },
     "metadata": {},
     "output_type": "display_data"
    },
    {
     "name": "stdout",
     "output_type": "stream",
     "text": [
      "Interactive map for monthly_mean\n"
     ]
    },
    {
     "data": {
      "application/vnd.jupyter.widget-view+json": {
       "model_id": "f4f7c19a601e4ea2931f8258cddc9265",
       "version_major": 2,
       "version_minor": 0
      },
      "text/plain": [
       "Map(center=[22.7266, 74.9799], controls=(WidgetControl(options=['position', 'transparent_bg'], widget=SearchDa…"
      ]
     },
     "metadata": {},
     "output_type": "display_data"
    },
    {
     "name": "stdout",
     "output_type": "stream",
     "text": [
      "Interactive map for monthly_min\n"
     ]
    },
    {
     "data": {
      "application/vnd.jupyter.widget-view+json": {
       "model_id": "28cef4dab6d9424c901e355ce5a4108b",
       "version_major": 2,
       "version_minor": 0
      },
      "text/plain": [
       "Map(center=[22.7266, 74.9799], controls=(WidgetControl(options=['position', 'transparent_bg'], widget=SearchDa…"
      ]
     },
     "metadata": {},
     "output_type": "display_data"
    },
    {
     "name": "stdout",
     "output_type": "stream",
     "text": [
      "Interactive map for monthly_max\n"
     ]
    },
    {
     "data": {
      "application/vnd.jupyter.widget-view+json": {
       "model_id": "91c34aaeeb234c09a437519f7410758c",
       "version_major": 2,
       "version_minor": 0
      },
      "text/plain": [
       "Map(center=[22.7266, 74.9799], controls=(WidgetControl(options=['position', 'transparent_bg'], widget=SearchDa…"
      ]
     },
     "metadata": {},
     "output_type": "display_data"
    },
    {
     "name": "stdout",
     "output_type": "stream",
     "text": [
      "Interactive map for monthly_variation\n"
     ]
    },
    {
     "data": {
      "application/vnd.jupyter.widget-view+json": {
       "model_id": "a528c05a1a634eea987814d5dc1c2720",
       "version_major": 2,
       "version_minor": 0
      },
      "text/plain": [
       "Map(center=[22.7266, 74.9799], controls=(WidgetControl(options=['position', 'transparent_bg'], widget=SearchDa…"
      ]
     },
     "metadata": {},
     "output_type": "display_data"
    },
    {
     "name": "stdout",
     "output_type": "stream",
     "text": [
      "Interactive map for yearly_value\n"
     ]
    },
    {
     "data": {
      "application/vnd.jupyter.widget-view+json": {
       "model_id": "cf1b5783ac12484aa2fcb81b3642d9eb",
       "version_major": 2,
       "version_minor": 0
      },
      "text/plain": [
       "Map(center=[22.7266, 74.9799], controls=(WidgetControl(options=['position', 'transparent_bg'], widget=SearchDa…"
      ]
     },
     "metadata": {},
     "output_type": "display_data"
    }
   ],
   "source": [
    "features = [\"monthly_mean\", \"monthly_min\", \"monthly_max\", \"monthly_variation\", \"yearly_value\"]\n",
    "\n",
    "for feature in features:\n",
    "    print(f\"Interactive map for {feature}\")\n",
    "    display(plot_choropleth(feature))"
   ]
  },
  {
   "cell_type": "code",
   "execution_count": null,
   "id": "4dc1e4c4",
   "metadata": {},
   "outputs": [],
   "source": []
  }
 ],
 "metadata": {
  "kernelspec": {
   "display_name": "dynamic",
   "language": "python",
   "name": "python3"
  },
  "language_info": {
   "codemirror_mode": {
    "name": "ipython",
    "version": 3
   },
   "file_extension": ".py",
   "mimetype": "text/x-python",
   "name": "python",
   "nbconvert_exporter": "python",
   "pygments_lexer": "ipython3",
   "version": "3.11.2"
  }
 },
 "nbformat": 4,
 "nbformat_minor": 5
}
